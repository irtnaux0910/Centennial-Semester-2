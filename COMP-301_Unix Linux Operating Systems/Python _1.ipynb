{
 "cells": [
  {
   "cell_type": "markdown",
   "id": "a9ebd812-de5c-4ddf-9be1-b7914c5a2ee1",
   "metadata": {},
   "source": [
    "#### String Literals : A string literal is a sequence of characters enclosed in a single or double quotations marks."
   ]
  },
  {
   "cell_type": "code",
   "execution_count": 9,
   "id": "3012226b-6649-4e61-9543-6158189e59ab",
   "metadata": {},
   "outputs": [],
   "source": [
    "name = \"jasdeep\""
   ]
  },
  {
   "cell_type": "code",
   "execution_count": 10,
   "id": "6eca50de-b654-4606-a16b-8f0b3e1e1eca",
   "metadata": {},
   "outputs": [
    {
     "data": {
      "text/plain": [
       "'jasdeep'"
      ]
     },
     "execution_count": 10,
     "metadata": {},
     "output_type": "execute_result"
    }
   ],
   "source": [
    "name"
   ]
  },
  {
   "cell_type": "code",
   "execution_count": null,
   "id": "1812bbac-b37a-43b3-99d1-f71d751bde7a",
   "metadata": {},
   "outputs": [],
   "source": [
    "string = 'Hello'\n",
    "string"
   ]
  },
  {
   "cell_type": "code",
   "execution_count": 3,
   "id": "ef6fa254-44cd-49cb-9f55-182b7bee4922",
   "metadata": {},
   "outputs": [
    {
     "data": {
      "text/plain": [
       "'Faith Fabiyi'"
      ]
     },
     "execution_count": 3,
     "metadata": {},
     "output_type": "execute_result"
    }
   ],
   "source": [
    "A = \"Faith Fabiyi\"\n",
    "A"
   ]
  },
  {
   "cell_type": "code",
   "execution_count": 12,
   "id": "e5fcc128-3fa8-4458-992c-c6b3ddc6e87d",
   "metadata": {},
   "outputs": [
    {
     "data": {
      "text/plain": [
       "26"
      ]
     },
     "execution_count": 12,
     "metadata": {},
     "output_type": "execute_result"
    }
   ],
   "source": [
    "B = int(26)\n",
    "B"
   ]
  },
  {
   "cell_type": "code",
   "execution_count": 11,
   "id": "90eb085c-301e-4de9-8f23-fc0019c891f6",
   "metadata": {},
   "outputs": [
    {
     "data": {
      "text/plain": [
       "26.0"
      ]
     },
     "execution_count": 11,
     "metadata": {},
     "output_type": "execute_result"
    }
   ],
   "source": [
    "B = float(26)\n",
    "B"
   ]
  },
  {
   "cell_type": "code",
   "execution_count": 10,
   "id": "d1f19d59-8e72-4e76-8b54-aacc863e87a9",
   "metadata": {},
   "outputs": [
    {
     "data": {
      "text/plain": [
       "9.0"
      ]
     },
     "execution_count": 10,
     "metadata": {},
     "output_type": "execute_result"
    }
   ],
   "source": [
    "B"
   ]
  },
  {
   "cell_type": "code",
   "execution_count": 15,
   "id": "267827f7-95cb-4ede-82f2-426e9334afd4",
   "metadata": {},
   "outputs": [
    {
     "name": "stdin",
     "output_type": "stream",
     "text": [
      "please enter your name emm\n"
     ]
    }
   ],
   "source": [
    "student_name = input(\"please enter your name\")"
   ]
  },
  {
   "cell_type": "code",
   "execution_count": 16,
   "id": "85fac6fa-c2a3-4593-aa44-519dbda506e3",
   "metadata": {},
   "outputs": [
    {
     "data": {
      "text/plain": [
       "'emm'"
      ]
     },
     "execution_count": 16,
     "metadata": {},
     "output_type": "execute_result"
    }
   ],
   "source": [
    "student_name"
   ]
  },
  {
   "cell_type": "code",
   "execution_count": 17,
   "id": "88d04440-687d-45ab-bf0f-baa6811dbc4c",
   "metadata": {},
   "outputs": [
    {
     "name": "stdin",
     "output_type": "stream",
     "text": [
      "please enter your age 12\n"
     ]
    }
   ],
   "source": [
    "student_age = input(\"please enter your age\")"
   ]
  },
  {
   "cell_type": "code",
   "execution_count": 21,
   "id": "a4b63c17-3d8a-4a1e-b626-f323bba2f0fc",
   "metadata": {},
   "outputs": [
    {
     "name": "stdin",
     "output_type": "stream",
     "text": [
      "please enter your age 12\n"
     ]
    }
   ],
   "source": [
    "student_age = float(input(\"please enter your age\"))"
   ]
  },
  {
   "cell_type": "code",
   "execution_count": 22,
   "id": "91dccb4c-7263-4c5a-89e7-a4671db251ab",
   "metadata": {},
   "outputs": [
    {
     "data": {
      "text/plain": [
       "12.0"
      ]
     },
     "execution_count": 22,
     "metadata": {},
     "output_type": "execute_result"
    }
   ],
   "source": [
    "student_age"
   ]
  },
  {
   "cell_type": "markdown",
   "id": "336c02a4-3601-4eb0-a9c9-80779491b50b",
   "metadata": {},
   "source": [
    "### How to define the name of the variable"
   ]
  },
  {
   "cell_type": "code",
   "execution_count": 31,
   "id": "dce37d0f-34bd-4ac0-8783-f8f55b48332c",
   "metadata": {},
   "outputs": [],
   "source": [
    "name = \"Jasdeep\""
   ]
  },
  {
   "cell_type": "markdown",
   "id": "d36c2a07-0554-476e-a00e-359d9bc6a2e7",
   "metadata": {},
   "source": [
    "### List"
   ]
  },
  {
   "cell_type": "code",
   "execution_count": 34,
   "id": "6074cc7d-010c-40fe-a406-d7c023cdbb8f",
   "metadata": {},
   "outputs": [],
   "source": [
    "attendance_python = [1,1,1,10,1,0,1,0]"
   ]
  },
  {
   "cell_type": "code",
   "execution_count": 36,
   "id": "71ea11e7-35c8-45b3-b44f-ef12677afb78",
   "metadata": {},
   "outputs": [
    {
     "data": {
      "text/plain": [
       "1"
      ]
     },
     "execution_count": 36,
     "metadata": {},
     "output_type": "execute_result"
    }
   ],
   "source": [
    "attendance_python[0]"
   ]
  },
  {
   "cell_type": "code",
   "execution_count": 44,
   "id": "b6c9110b-9abd-479d-b1ba-6369b6471f37",
   "metadata": {},
   "outputs": [],
   "source": [
    "name = [\"Emm\",\"jas\",\"afo\", \"phi\",\"Jig\"]"
   ]
  },
  {
   "cell_type": "code",
   "execution_count": 38,
   "id": "d3edac77-362b-4509-8fd4-ade2ed4dbf47",
   "metadata": {},
   "outputs": [
    {
     "data": {
      "text/plain": [
       "['Emm', 'jas', 'afo', 'phi', 'Jig']"
      ]
     },
     "execution_count": 38,
     "metadata": {},
     "output_type": "execute_result"
    }
   ],
   "source": [
    "name"
   ]
  },
  {
   "cell_type": "code",
   "execution_count": 45,
   "id": "019e4a2d-b995-418d-aa65-3290ebc8df34",
   "metadata": {},
   "outputs": [
    {
     "data": {
      "text/plain": [
       "'phi'"
      ]
     },
     "execution_count": 45,
     "metadata": {},
     "output_type": "execute_result"
    }
   ],
   "source": [
    "name[-2]"
   ]
  },
  {
   "cell_type": "code",
   "execution_count": 40,
   "id": "43e8aa78-39c6-4b15-af98-157909d9d40a",
   "metadata": {},
   "outputs": [
    {
     "data": {
      "text/plain": [
       "'afo'"
      ]
     },
     "execution_count": 40,
     "metadata": {},
     "output_type": "execute_result"
    }
   ],
   "source": [
    "name[2]"
   ]
  },
  {
   "cell_type": "code",
   "execution_count": 42,
   "id": "8ab15b86-5fa2-482a-8b93-b93b400f0920",
   "metadata": {},
   "outputs": [
    {
     "data": {
      "text/plain": [
       "'phi'"
      ]
     },
     "execution_count": 42,
     "metadata": {},
     "output_type": "execute_result"
    }
   ],
   "source": [
    "name[-2]"
   ]
  },
  {
   "cell_type": "code",
   "execution_count": null,
   "id": "0c5c9b09-9c38-4ace-96eb-6fd39d85b716",
   "metadata": {},
   "outputs": [],
   "source": [
    "name = [\"Emm\",\"jas\",\"afo\", \"phi\",\"Jig\"]"
   ]
  },
  {
   "cell_type": "code",
   "execution_count": 53,
   "id": "b3581f9d-9380-42fc-8bf1-580facfe7612",
   "metadata": {},
   "outputs": [
    {
     "data": {
      "text/plain": [
       "['Emm', 'jas', 'afo', 'phi', 'Jig']"
      ]
     },
     "execution_count": 53,
     "metadata": {},
     "output_type": "execute_result"
    }
   ],
   "source": [
    "name[0:5:1]"
   ]
  },
  {
   "cell_type": "code",
   "execution_count": 46,
   "id": "d07d6b86-a123-4812-b9ff-330e0d18268d",
   "metadata": {},
   "outputs": [
    {
     "data": {
      "text/plain": [
       "['Emm', 'jas', 'afo']"
      ]
     },
     "execution_count": 46,
     "metadata": {},
     "output_type": "execute_result"
    }
   ],
   "source": [
    "name[0:3]"
   ]
  },
  {
   "cell_type": "code",
   "execution_count": 33,
   "id": "a0982935-f3db-40b0-9d31-8848ec7742db",
   "metadata": {},
   "outputs": [
    {
     "data": {
      "text/plain": [
       "[5, 5, 5, 0, 5, 5]"
      ]
     },
     "execution_count": 33,
     "metadata": {},
     "output_type": "execute_result"
    }
   ],
   "source": [
    "attendance_python"
   ]
  },
  {
   "cell_type": "code",
   "execution_count": 18,
   "id": "c9024af4-f73c-439e-ac9a-036eb4c46854",
   "metadata": {},
   "outputs": [],
   "source": [
    "a1 = [1,2,3,4,5,1]"
   ]
  },
  {
   "cell_type": "code",
   "execution_count": 19,
   "id": "602b4e89-daa6-47c7-b9c9-56fd163632d8",
   "metadata": {},
   "outputs": [
    {
     "data": {
      "text/plain": [
       "[1, 2, 3, 4, 5, 1]"
      ]
     },
     "execution_count": 19,
     "metadata": {},
     "output_type": "execute_result"
    }
   ],
   "source": [
    "a1"
   ]
  },
  {
   "cell_type": "code",
   "execution_count": 56,
   "id": "1411acde-7ecd-41a2-a906-cf619732ccfa",
   "metadata": {},
   "outputs": [
    {
     "ename": "NameError",
     "evalue": "name 'emm' is not defined",
     "output_type": "error",
     "traceback": [
      "\u001b[1;31m---------------------------------------------------------------------------\u001b[0m",
      "\u001b[1;31mNameError\u001b[0m                                 Traceback (most recent call last)",
      "\u001b[1;32m~\\AppData\\Local\\Temp\\ipykernel_17456\\3929692112.py\u001b[0m in \u001b[0;36m<module>\u001b[1;34m\u001b[0m\n\u001b[1;32m----> 1\u001b[1;33m \u001b[0ma3\u001b[0m \u001b[1;33m=\u001b[0m \u001b[1;33m[\u001b[0m\u001b[0memm\u001b[0m\u001b[1;33m,\u001b[0m\u001b[1;36m25\u001b[0m\u001b[1;33m,\u001b[0m\u001b[1;34m\"jas\"\u001b[0m\u001b[1;33m,\u001b[0m\u001b[1;36m24\u001b[0m\u001b[1;33m]\u001b[0m\u001b[1;33m\u001b[0m\u001b[1;33m\u001b[0m\u001b[0m\n\u001b[0m",
      "\u001b[1;31mNameError\u001b[0m: name 'emm' is not defined"
     ]
    }
   ],
   "source": [
    "a3 = [emm,25,\"jas\",24]"
   ]
  },
  {
   "cell_type": "code",
   "execution_count": 55,
   "id": "9a3f3826-0ab9-478b-862e-67bf391096ce",
   "metadata": {},
   "outputs": [
    {
     "data": {
      "text/plain": [
       "['emm', 25, 'jas', 24]"
      ]
     },
     "execution_count": 55,
     "metadata": {},
     "output_type": "execute_result"
    }
   ],
   "source": [
    "a3"
   ]
  },
  {
   "cell_type": "code",
   "execution_count": 29,
   "id": "ca314875-9a02-4dc1-83db-7e7706c7d66f",
   "metadata": {},
   "outputs": [
    {
     "data": {
      "text/plain": [
       "'Savita'"
      ]
     },
     "execution_count": 29,
     "metadata": {},
     "output_type": "execute_result"
    }
   ],
   "source": [
    "a3[-3]"
   ]
  },
  {
   "cell_type": "markdown",
   "id": "6cb7eb16-6183-42ff-bdc4-9a853e83edec",
   "metadata": {},
   "source": [
    "length : Numbers of elements and python code for length: len()"
   ]
  },
  {
   "cell_type": "code",
   "execution_count": 32,
   "id": "3708c74a-af01-42fc-ab5b-770fe4c6ef2a",
   "metadata": {},
   "outputs": [
    {
     "data": {
      "text/plain": [
       "4"
      ]
     },
     "execution_count": 32,
     "metadata": {},
     "output_type": "execute_result"
    }
   ],
   "source": [
    "len(a3)"
   ]
  },
  {
   "cell_type": "code",
   "execution_count": 33,
   "id": "5c5e122c-cd48-46c8-9757-694b38c67601",
   "metadata": {},
   "outputs": [],
   "source": [
    "a5 = [\"A\",\"B\",\"C\",1,2,3,4]"
   ]
  },
  {
   "cell_type": "code",
   "execution_count": 34,
   "id": "437cac49-b5d9-486e-b5fb-e6a9be8fe300",
   "metadata": {},
   "outputs": [
    {
     "data": {
      "text/plain": [
       "'C'"
      ]
     },
     "execution_count": 34,
     "metadata": {},
     "output_type": "execute_result"
    }
   ],
   "source": [
    "a5[2]"
   ]
  },
  {
   "cell_type": "code",
   "execution_count": 35,
   "id": "2a8c098d-f98f-40f3-9a30-f7bace113af7",
   "metadata": {},
   "outputs": [
    {
     "data": {
      "text/plain": [
       "3"
      ]
     },
     "execution_count": 35,
     "metadata": {},
     "output_type": "execute_result"
    }
   ],
   "source": [
    "a5[-2]"
   ]
  },
  {
   "cell_type": "code",
   "execution_count": 42,
   "id": "21614f9f-9080-424c-881d-056ec95d1189",
   "metadata": {},
   "outputs": [
    {
     "data": {
      "text/plain": [
       "['A', 'B', 'C', 1]"
      ]
     },
     "execution_count": 42,
     "metadata": {},
     "output_type": "execute_result"
    }
   ],
   "source": [
    "a5[0:4]"
   ]
  },
  {
   "cell_type": "code",
   "execution_count": 43,
   "id": "ecf69f97-a201-47ae-a36a-bd863434ee29",
   "metadata": {},
   "outputs": [
    {
     "data": {
      "text/plain": [
       "['B', 'C', 1, 2]"
      ]
     },
     "execution_count": 43,
     "metadata": {},
     "output_type": "execute_result"
    }
   ],
   "source": [
    "a5[1:5]"
   ]
  },
  {
   "cell_type": "code",
   "execution_count": 47,
   "id": "5e265eb3-5491-406b-9ab8-c39ce2918e4a",
   "metadata": {},
   "outputs": [
    {
     "data": {
      "text/plain": [
       "[1, 2, 3, 4]"
      ]
     },
     "execution_count": 47,
     "metadata": {},
     "output_type": "execute_result"
    }
   ],
   "source": [
    "a5[3:7]"
   ]
  },
  {
   "cell_type": "code",
   "execution_count": 55,
   "id": "e8d93977-6d5a-4f1d-ab94-d09f45aef8a3",
   "metadata": {},
   "outputs": [
    {
     "ename": "SyntaxError",
     "evalue": "invalid syntax (2878974125.py, line 1)",
     "output_type": "error",
     "traceback": [
      "\u001b[1;36m  Input \u001b[1;32mIn [55]\u001b[1;36m\u001b[0m\n\u001b[1;33m    5a5 = 5\u001b[0m\n\u001b[1;37m     ^\u001b[0m\n\u001b[1;31mSyntaxError\u001b[0m\u001b[1;31m:\u001b[0m invalid syntax\n"
     ]
    }
   ],
   "source": [
    "5a5 = 5"
   ]
  },
  {
   "cell_type": "code",
   "execution_count": 16,
   "id": "92ce0790-fc52-4793-90d3-9feaa86e5f52",
   "metadata": {},
   "outputs": [],
   "source": [
    "a2 = {1,2,3,4,5,1}"
   ]
  },
  {
   "cell_type": "code",
   "execution_count": 17,
   "id": "551f7fb2-16f7-4e83-ab1d-afde83448b3f",
   "metadata": {},
   "outputs": [
    {
     "data": {
      "text/plain": [
       "{1, 2, 3, 4, 5}"
      ]
     },
     "execution_count": 17,
     "metadata": {},
     "output_type": "execute_result"
    }
   ],
   "source": [
    "a2"
   ]
  },
  {
   "cell_type": "markdown",
   "id": "e1d2d1ee-f04d-4630-a62d-7e933ba3c03f",
   "metadata": {},
   "source": [
    "Addition"
   ]
  },
  {
   "cell_type": "code",
   "execution_count": 56,
   "id": "5a323db1-8059-415d-a505-803b0dcf6b60",
   "metadata": {},
   "outputs": [
    {
     "data": {
      "text/plain": [
       "7"
      ]
     },
     "execution_count": 56,
     "metadata": {},
     "output_type": "execute_result"
    }
   ],
   "source": [
    "2+5"
   ]
  },
  {
   "cell_type": "markdown",
   "id": "968e27a7-fcdb-4fb7-83ef-bc7e2cf50e1c",
   "metadata": {},
   "source": [
    "Subtraction"
   ]
  },
  {
   "cell_type": "code",
   "execution_count": 57,
   "id": "9fee70e9-8205-4747-af8b-7fcf497dde27",
   "metadata": {},
   "outputs": [
    {
     "data": {
      "text/plain": [
       "-3"
      ]
     },
     "execution_count": 57,
     "metadata": {},
     "output_type": "execute_result"
    }
   ],
   "source": [
    "2-5"
   ]
  },
  {
   "cell_type": "markdown",
   "id": "944fedad-99ab-499f-9da8-8002b6d9fdfd",
   "metadata": {},
   "source": [
    "Multiplication"
   ]
  },
  {
   "cell_type": "code",
   "execution_count": 60,
   "id": "8f61630f-e70a-4901-9d82-07fb461d3315",
   "metadata": {},
   "outputs": [
    {
     "data": {
      "text/plain": [
       "6"
      ]
     },
     "execution_count": 60,
     "metadata": {},
     "output_type": "execute_result"
    }
   ],
   "source": [
    "2*3"
   ]
  },
  {
   "cell_type": "markdown",
   "id": "39d6ed2b-7ba1-414e-b672-e46cfadacd54",
   "metadata": {},
   "source": [
    "Division"
   ]
  },
  {
   "cell_type": "code",
   "execution_count": 61,
   "id": "c548f92f-9b2f-416a-9b5f-29d6ff982a91",
   "metadata": {},
   "outputs": [
    {
     "data": {
      "text/plain": [
       "3.0"
      ]
     },
     "execution_count": 61,
     "metadata": {},
     "output_type": "execute_result"
    }
   ],
   "source": [
    "6/2"
   ]
  },
  {
   "cell_type": "markdown",
   "id": "f7cfc0ca-39f3-4f30-a573-0a6f9177f0c6",
   "metadata": {},
   "source": [
    "Exponentiation"
   ]
  },
  {
   "cell_type": "code",
   "execution_count": 62,
   "id": "14ce8e78-288f-4146-b881-7c5db734d326",
   "metadata": {},
   "outputs": [
    {
     "data": {
      "text/plain": [
       "8"
      ]
     },
     "execution_count": 62,
     "metadata": {},
     "output_type": "execute_result"
    }
   ],
   "source": [
    "2**3"
   ]
  },
  {
   "cell_type": "markdown",
   "id": "a1181da3-843d-41e0-aab4-8bee7a410c51",
   "metadata": {},
   "source": [
    "Modulus"
   ]
  },
  {
   "cell_type": "code",
   "execution_count": 63,
   "id": "d72acb58-4c45-4695-beeb-11e3d3392780",
   "metadata": {},
   "outputs": [
    {
     "data": {
      "text/plain": [
       "1"
      ]
     },
     "execution_count": 63,
     "metadata": {},
     "output_type": "execute_result"
    }
   ],
   "source": [
    "7%2"
   ]
  },
  {
   "cell_type": "code",
   "execution_count": 64,
   "id": "79d420d9-40fb-48e0-8cca-fb4c4a0c3942",
   "metadata": {},
   "outputs": [],
   "source": [
    "x = 3"
   ]
  },
  {
   "cell_type": "code",
   "execution_count": 65,
   "id": "b24e6404-9d1f-4fc0-9d0e-2224a9a2109c",
   "metadata": {},
   "outputs": [
    {
     "data": {
      "text/plain": [
       "15"
      ]
     },
     "execution_count": 65,
     "metadata": {},
     "output_type": "execute_result"
    }
   ],
   "source": [
    "4*x +3"
   ]
  },
  {
   "cell_type": "code",
   "execution_count": 66,
   "id": "3ebca631-3c70-4105-b651-aa7f01ae37bb",
   "metadata": {},
   "outputs": [
    {
     "data": {
      "text/plain": [
       "17"
      ]
     },
     "execution_count": 66,
     "metadata": {},
     "output_type": "execute_result"
    }
   ],
   "source": [
    "4*3+5"
   ]
  },
  {
   "cell_type": "code",
   "execution_count": 67,
   "id": "4469b818-97cc-406a-b159-834ffe8c26b7",
   "metadata": {},
   "outputs": [
    {
     "data": {
      "text/plain": [
       "1.4142135623730951"
      ]
     },
     "execution_count": 67,
     "metadata": {},
     "output_type": "execute_result"
    }
   ],
   "source": [
    "2**(1/2)"
   ]
  },
  {
   "cell_type": "code",
   "execution_count": 68,
   "id": "af3fb647-dd52-48c0-a5d1-bc2020404a83",
   "metadata": {},
   "outputs": [],
   "source": [
    "x = 8"
   ]
  },
  {
   "cell_type": "code",
   "execution_count": 69,
   "id": "944de5a1-2a05-4d44-978a-266828c5fa7c",
   "metadata": {},
   "outputs": [
    {
     "data": {
      "text/plain": [
       "35"
      ]
     },
     "execution_count": 69,
     "metadata": {},
     "output_type": "execute_result"
    }
   ],
   "source": [
    "4*x+3"
   ]
  },
  {
   "cell_type": "code",
   "execution_count": 71,
   "id": "b85ff6f5-5e42-4ceb-98b7-0791f3b8837d",
   "metadata": {},
   "outputs": [],
   "source": [
    "import math"
   ]
  },
  {
   "cell_type": "code",
   "execution_count": 75,
   "id": "69b1044f-3daf-4bfe-8374-aa26ed6a0488",
   "metadata": {},
   "outputs": [
    {
     "data": {
      "text/plain": [
       "6"
      ]
     },
     "execution_count": 75,
     "metadata": {},
     "output_type": "execute_result"
    }
   ],
   "source": [
    "math.factorial(3)"
   ]
  },
  {
   "cell_type": "code",
   "execution_count": 77,
   "id": "e4df9574-b68a-48dc-8523-d9af04de46c2",
   "metadata": {},
   "outputs": [
    {
     "data": {
      "text/plain": [
       "5.0"
      ]
     },
     "execution_count": 77,
     "metadata": {},
     "output_type": "execute_result"
    }
   ],
   "source": [
    "math.fabs(-5)"
   ]
  },
  {
   "cell_type": "code",
   "execution_count": 78,
   "id": "3f187e4a-af65-43b8-a373-7c5d011415de",
   "metadata": {},
   "outputs": [
    {
     "data": {
      "text/plain": [
       "8.0"
      ]
     },
     "execution_count": 78,
     "metadata": {},
     "output_type": "execute_result"
    }
   ],
   "source": [
    "math.pow(2,3)"
   ]
  },
  {
   "cell_type": "code",
   "execution_count": null,
   "id": "81ca937a-97cf-415f-8d72-67e8b290fbda",
   "metadata": {},
   "outputs": [
    {
     "data": {
      "text/plain": [
       "range(0, 10)"
      ]
     },
     "execution_count": 81,
     "metadata": {},
     "output_type": "execute_result"
    }
   ],
   "source": [
    "range(10)"
   ]
  }
 ],
 "metadata": {
  "kernelspec": {
   "display_name": "Python 3 (ipykernel)",
   "language": "python",
   "name": "python3"
  },
  "language_info": {
   "codemirror_mode": {
    "name": "ipython",
    "version": 3
   },
   "file_extension": ".py",
   "mimetype": "text/x-python",
   "name": "python",
   "nbconvert_exporter": "python",
   "pygments_lexer": "ipython3",
   "version": "3.9.13"
  }
 },
 "nbformat": 4,
 "nbformat_minor": 5
}
