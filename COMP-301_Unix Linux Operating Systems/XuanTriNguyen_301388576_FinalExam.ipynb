{
  "nbformat": 4,
  "nbformat_minor": 0,
  "metadata": {
    "colab": {
      "provenance": []
    },
    "kernelspec": {
      "name": "python3",
      "display_name": "Python 3"
    },
    "language_info": {
      "name": "python"
    }
  },
  "cells": [
    {
      "cell_type": "markdown",
      "source": [
        "Q1. Write a Python code to make a dictionary called stock_prices and put three keys (stock names) into it. The values should be lists that contain 10 stock prices for each stock. Using a for loop, print out the stocks, minimum price, average price, and maximum price for each stock."
      ],
      "metadata": {
        "id": "3f3BgM2_Pjtt"
      }
    },
    {
      "cell_type": "code",
      "source": [
        "stock_prices = {\n",
        "    \"Stock1\": [120.5, 125.3, 118.7, 122.1, 124.9, 119.2, 126.8, 123.5, 117.9, 121.4],\n",
        "    \"Stock2\": [155.2, 160.8, 158.1, 153.7, 162.5, 159.4, 161.3, 157.6, 154.9, 163.2],\n",
        "    \"Stock3\": [210.7, 215.3, 209.8, 212.4, 217.1, 214.5, 216.9, 211.2, 208.6, 213.3]\n",
        "}\n",
        "\n",
        "for stock, prices in stock_prices.items():\n",
        "    min_price = min(prices)\n",
        "    max_price = max(prices)\n",
        "    average_price = sum(prices) / len(prices)\n",
        "    print(f\"Stock: {stock}\")\n",
        "    print(f\"\\tMin price: ${min_price}\")\n",
        "    print(f\"\\tMax price: ${max_price}\")\n",
        "    print(f\"\\tAverage price: ${average_price:.2f}\\n\")"
      ],
      "metadata": {
        "id": "Lcrui9TrZ-1K"
      },
      "execution_count": null,
      "outputs": []
    },
    {
      "cell_type": "markdown",
      "source": [
        "Q2 . Use the employee csv file to create a python dataframe and find the following:\n",
        "1.\tThe data types of all variables\n"
      ],
      "metadata": {
        "id": "jBSgOpNvPleH"
      }
    },
    {
      "cell_type": "code",
      "source": [
        "import pandas as pd\n",
        "df = pd.read_csv('employee.csv')\n",
        "df.dtypes"
      ],
      "metadata": {
        "colab": {
          "base_uri": "https://localhost:8080/",
          "height": 241
        },
        "id": "wVZ8o5eLPlmP",
        "outputId": "94de762d-f7d3-469b-acc3-4d428c06ac13"
      },
      "execution_count": 27,
      "outputs": [
        {
          "output_type": "execute_result",
          "data": {
            "text/plain": [
              "123               int64\n",
              "Harold Wilson    object\n",
              "Acct             object\n",
              "01/15/1989       object\n",
              "$78,123.00       object\n",
              "dtype: object"
            ],
            "text/html": [
              "<div>\n",
              "<style scoped>\n",
              "    .dataframe tbody tr th:only-of-type {\n",
              "        vertical-align: middle;\n",
              "    }\n",
              "\n",
              "    .dataframe tbody tr th {\n",
              "        vertical-align: top;\n",
              "    }\n",
              "\n",
              "    .dataframe thead th {\n",
              "        text-align: right;\n",
              "    }\n",
              "</style>\n",
              "<table border=\"1\" class=\"dataframe\">\n",
              "  <thead>\n",
              "    <tr style=\"text-align: right;\">\n",
              "      <th></th>\n",
              "      <th>0</th>\n",
              "    </tr>\n",
              "  </thead>\n",
              "  <tbody>\n",
              "    <tr>\n",
              "      <th>123</th>\n",
              "      <td>int64</td>\n",
              "    </tr>\n",
              "    <tr>\n",
              "      <th>Harold Wilson</th>\n",
              "      <td>object</td>\n",
              "    </tr>\n",
              "    <tr>\n",
              "      <th>Acct</th>\n",
              "      <td>object</td>\n",
              "    </tr>\n",
              "    <tr>\n",
              "      <th>01/15/1989</th>\n",
              "      <td>object</td>\n",
              "    </tr>\n",
              "    <tr>\n",
              "      <th>$78,123.00</th>\n",
              "      <td>object</td>\n",
              "    </tr>\n",
              "  </tbody>\n",
              "</table>\n",
              "</div><br><label><b>dtype:</b> object</label>"
            ]
          },
          "metadata": {},
          "execution_count": 27
        }
      ]
    },
    {
      "cell_type": "markdown",
      "source": [
        "2.\tHow many data points in the dataframe"
      ],
      "metadata": {
        "id": "4B-ny-7-PltL"
      }
    },
    {
      "cell_type": "code",
      "source": [
        "data_points = df.shape[0]\n",
        "print(data_points)"
      ],
      "metadata": {
        "colab": {
          "base_uri": "https://localhost:8080/"
        },
        "id": "s0crePR0Plz6",
        "outputId": "ff8f55c3-f392-423a-d171-509852d44115"
      },
      "execution_count": 30,
      "outputs": [
        {
          "output_type": "stream",
          "name": "stdout",
          "text": [
            "5\n"
          ]
        }
      ]
    },
    {
      "cell_type": "markdown",
      "source": [
        "3.\tWhat is the size of the dataframe"
      ],
      "metadata": {
        "id": "F2ciafptPl50"
      }
    },
    {
      "cell_type": "code",
      "source": [
        "size = df.size\n",
        "print(size)"
      ],
      "metadata": {
        "colab": {
          "base_uri": "https://localhost:8080/"
        },
        "id": "NPPqUecUZpbT",
        "outputId": "949e1213-0cd9-4dfb-c417-4e3d49e18cc6"
      },
      "execution_count": 31,
      "outputs": [
        {
          "output_type": "stream",
          "name": "stdout",
          "text": [
            "25\n"
          ]
        }
      ]
    },
    {
      "cell_type": "markdown",
      "source": [
        "4.\tShow the last 7 rows of the dataframe"
      ],
      "metadata": {
        "id": "pEuzexxFPmD7"
      }
    },
    {
      "cell_type": "code",
      "source": [
        "last_rows = df.tail(7)\n",
        "print(last_rows)"
      ],
      "metadata": {
        "colab": {
          "base_uri": "https://localhost:8080/"
        },
        "id": "rDJ8AHkvPmI1",
        "outputId": "9bc82b41-1b63-4df0-ff55-4cc2d13f9978"
      },
      "execution_count": 33,
      "outputs": [
        {
          "output_type": "stream",
          "name": "stdout",
          "text": [
            "   123   Harold Wilson      Acct  01/15/1989 $78,123.00\n",
            "0  128     Julia Child      Food  08/29/1988    $89,123\n",
            "1    7      James Bond  Security  02/01/2000    $82,100\n",
            "2  828     Roger Doger      Acct  08/15/1999        NaN\n",
            "3  900  Earl Davenport      Food  09/09/1989    $45,399\n",
            "4  906  James Swindler       NaN  12/21/1978    $78,200\n"
          ]
        }
      ]
    },
    {
      "cell_type": "markdown",
      "source": [
        "5.\tRemove all missing values"
      ],
      "metadata": {
        "id": "DIv8zoYOPmOv"
      }
    },
    {
      "cell_type": "code",
      "source": [
        "remove_values = df.dropna()\n",
        "print(remove_values)"
      ],
      "metadata": {
        "colab": {
          "base_uri": "https://localhost:8080/"
        },
        "id": "t_T_bK99PmUQ",
        "outputId": "16508fdc-0be9-45d2-873d-e971d476ca4d"
      },
      "execution_count": 35,
      "outputs": [
        {
          "output_type": "stream",
          "name": "stdout",
          "text": [
            "   123   Harold Wilson      Acct  01/15/1989 $78,123.00\n",
            "0  128     Julia Child      Food  08/29/1988    $89,123\n",
            "1    7      James Bond  Security  02/01/2000    $82,100\n",
            "3  900  Earl Davenport      Food  09/09/1989    $45,399\n"
          ]
        }
      ]
    },
    {
      "cell_type": "markdown",
      "source": [
        "6.\tCheck if the missing values are removed."
      ],
      "metadata": {
        "id": "bEeNkXIzPmax"
      }
    },
    {
      "cell_type": "code",
      "source": [
        "print(remove_values.isnull().any().any())"
      ],
      "metadata": {
        "colab": {
          "base_uri": "https://localhost:8080/"
        },
        "id": "8ciB3NiVPmgI",
        "outputId": "269c3b2a-1cc1-41c5-9188-6952d0b02812"
      },
      "execution_count": 39,
      "outputs": [
        {
          "output_type": "stream",
          "name": "stdout",
          "text": [
            "False\n"
          ]
        }
      ]
    },
    {
      "cell_type": "markdown",
      "source": [
        "7.\tCreate a new dataframe that has only the first two variables and the last two rows."
      ],
      "metadata": {
        "id": "XBDP8txhPml2"
      }
    },
    {
      "cell_type": "code",
      "source": [
        "new_data = df.iloc[-2:, :2]\n",
        "print(new_data)"
      ],
      "metadata": {
        "colab": {
          "base_uri": "https://localhost:8080/"
        },
        "id": "y-lpGMJ1augW",
        "outputId": "d3f634b0-6046-4f55-b5a2-1d589c374546"
      },
      "execution_count": 43,
      "outputs": [
        {
          "output_type": "stream",
          "name": "stdout",
          "text": [
            "   123   Harold Wilson\n",
            "3  900  Earl Davenport\n",
            "4  906  James Swindler\n"
          ]
        }
      ]
    },
    {
      "cell_type": "markdown",
      "source": [
        "Q3.  Tips database is the record of the tip given by the customers in a restaurant for two and a half months in the early 1990s. It contains 6 columns such as total_bill, tip, sex, smoker, day, time, size.\n",
        "1.\tCreate a Scatter plot with day against tip.\n"
      ],
      "metadata": {
        "id": "wXfnXY6rbtA2"
      }
    },
    {
      "cell_type": "code",
      "source": [
        "import matplotlib.pyplot as plt\n",
        "df = pd.read_csv('tips.csv')\n",
        "dayTip_scatter = df.plot(x='day', y='tip', kind='scatter')\n",
        "dayTip_scatter.set_xlabel('Day')\n",
        "dayTip_scatter.set_ylabel('Tip')\n",
        "dayTip_scatter.set_title('Day vs Tip')\n",
        "plt.show()"
      ],
      "metadata": {
        "colab": {
          "base_uri": "https://localhost:8080/",
          "height": 472
        },
        "id": "qpFDTzDnbtSG",
        "outputId": "dc5ffc21-f5cd-4409-d95b-155e49167db9"
      },
      "execution_count": 48,
      "outputs": [
        {
          "output_type": "display_data",
          "data": {
            "text/plain": [
              "<Figure size 640x480 with 1 Axes>"
            ],
            "image/png": "[encoded data removed]"
          },
          "metadata": {}
        }
      ]
    },
    {
      "cell_type": "markdown",
      "source": [
        "2.\tCreate a Bar chart with day against tip."
      ],
      "metadata": {
        "id": "UBEpTz_HbtaG"
      }
    },
    {
      "cell_type": "code",
      "source": [
        "dayTip_bar = df.groupby('day')['tip'].mean().plot(kind='bar')\n",
        "dayTip_bar.set_xlabel('Day')\n",
        "dayTip_bar.set_ylabel('Tip')\n",
        "dayTip_bar.set_title('Day vs Tip')\n",
        "plt.show()"
      ],
      "metadata": {
        "colab": {
          "base_uri": "https://localhost:8080/",
          "height": 489
        },
        "id": "sjLo4antbtlK",
        "outputId": "475a0dcc-1fa3-4fdf-d200-3eecfce9ff8f"
      },
      "execution_count": 50,
      "outputs": [
        {
          "output_type": "display_data",
          "data": {
            "text/plain": [
              "<Figure size 640x480 with 1 Axes>"
            ],
            "image/png": "[encoded data removed]"
          },
          "metadata": {}
        }
      ]
    }
  ]
}