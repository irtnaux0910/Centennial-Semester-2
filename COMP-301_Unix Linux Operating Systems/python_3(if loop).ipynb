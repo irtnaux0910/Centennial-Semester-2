{
 "cells": [
  {
   "cell_type": "code",
   "execution_count": 1,
   "id": "a916e880-92f6-4b9b-9342-ea7c04003c56",
   "metadata": {
    "tags": []
   },
   "outputs": [],
   "source": [
    "import pandas as pd"
   ]
  },
  {
   "cell_type": "code",
   "execution_count": 2,
   "id": "cc4fa9fc-7d32-4b77-9390-5a95802206e8",
   "metadata": {
    "tags": []
   },
   "outputs": [],
   "source": [
    "RollNo = [1,2,3,4,5,6,7,8,9,10]\n",
    "fName = [\"A\", \"B\",\"C\",\"A\",\"A\",\"B\",\"C\",\"D\",\"d\",\"A\"]\n",
    "lName =    [\"B\", \"B\",\"A\",\"A\",\"A\",\"B\",\"c\",\"A\",\"d\",\"d\"]"
   ]
  },
  {
   "cell_type": "code",
   "execution_count": 3,
   "id": "57ae2b65-405c-402c-a382-4f78c87b3b00",
   "metadata": {},
   "outputs": [],
   "source": [
    "data = {\"id\" : RollNo, \"firstName\" : fName,\"lastName\" : lName}\n"
   ]
  },
  {
   "cell_type": "code",
   "execution_count": 4,
   "id": "11a45445-7551-4663-b4d0-f5124227dfbb",
   "metadata": {},
   "outputs": [],
   "source": [
    " dataframe= pd.DataFrame(data)\n"
   ]
  },
  {
   "cell_type": "code",
   "execution_count": 5,
   "id": "87257af3-027e-4546-b27e-584672abe294",
   "metadata": {},
   "outputs": [
    {
     "data": {
      "text/html": [
       "<div>\n",
       "<style scoped>\n",
       "    .dataframe tbody tr th:only-of-type {\n",
       "        vertical-align: middle;\n",
       "    }\n",
       "\n",
       "    .dataframe tbody tr th {\n",
       "        vertical-align: top;\n",
       "    }\n",
       "\n",
       "    .dataframe thead th {\n",
       "        text-align: right;\n",
       "    }\n",
       "</style>\n",
       "<table border=\"1\" class=\"dataframe\">\n",
       "  <thead>\n",
       "    <tr style=\"text-align: right;\">\n",
       "      <th></th>\n",
       "      <th>id</th>\n",
       "      <th>firstName</th>\n",
       "      <th>lastName</th>\n",
       "    </tr>\n",
       "  </thead>\n",
       "  <tbody>\n",
       "    <tr>\n",
       "      <th>0</th>\n",
       "      <td>1</td>\n",
       "      <td>A</td>\n",
       "      <td>B</td>\n",
       "    </tr>\n",
       "    <tr>\n",
       "      <th>1</th>\n",
       "      <td>2</td>\n",
       "      <td>B</td>\n",
       "      <td>B</td>\n",
       "    </tr>\n",
       "    <tr>\n",
       "      <th>2</th>\n",
       "      <td>3</td>\n",
       "      <td>C</td>\n",
       "      <td>A</td>\n",
       "    </tr>\n",
       "    <tr>\n",
       "      <th>3</th>\n",
       "      <td>4</td>\n",
       "      <td>A</td>\n",
       "      <td>A</td>\n",
       "    </tr>\n",
       "    <tr>\n",
       "      <th>4</th>\n",
       "      <td>5</td>\n",
       "      <td>A</td>\n",
       "      <td>A</td>\n",
       "    </tr>\n",
       "    <tr>\n",
       "      <th>5</th>\n",
       "      <td>6</td>\n",
       "      <td>B</td>\n",
       "      <td>B</td>\n",
       "    </tr>\n",
       "    <tr>\n",
       "      <th>6</th>\n",
       "      <td>7</td>\n",
       "      <td>C</td>\n",
       "      <td>c</td>\n",
       "    </tr>\n",
       "    <tr>\n",
       "      <th>7</th>\n",
       "      <td>8</td>\n",
       "      <td>D</td>\n",
       "      <td>A</td>\n",
       "    </tr>\n",
       "    <tr>\n",
       "      <th>8</th>\n",
       "      <td>9</td>\n",
       "      <td>d</td>\n",
       "      <td>d</td>\n",
       "    </tr>\n",
       "    <tr>\n",
       "      <th>9</th>\n",
       "      <td>10</td>\n",
       "      <td>A</td>\n",
       "      <td>d</td>\n",
       "    </tr>\n",
       "  </tbody>\n",
       "</table>\n",
       "</div>"
      ],
      "text/plain": [
       "   id firstName lastName\n",
       "0   1         A        B\n",
       "1   2         B        B\n",
       "2   3         C        A\n",
       "3   4         A        A\n",
       "4   5         A        A\n",
       "5   6         B        B\n",
       "6   7         C        c\n",
       "7   8         D        A\n",
       "8   9         d        d\n",
       "9  10         A        d"
      ]
     },
     "execution_count": 5,
     "metadata": {},
     "output_type": "execute_result"
    }
   ],
   "source": [
    "dataframe"
   ]
  },
  {
   "cell_type": "code",
   "execution_count": 6,
   "id": "0dccdcb0-145f-4cab-9597-1e22ccedbebd",
   "metadata": {},
   "outputs": [
    {
     "data": {
      "text/plain": [
       "Index(['id', 'firstName', 'lastName'], dtype='object')"
      ]
     },
     "execution_count": 6,
     "metadata": {},
     "output_type": "execute_result"
    }
   ],
   "source": [
    "dataframe.columns"
   ]
  },
  {
   "cell_type": "code",
   "execution_count": 7,
   "id": "4edc9db1-f17e-42bc-bb93-c32f7e05e107",
   "metadata": {},
   "outputs": [
    {
     "data": {
      "text/plain": [
       "(10, 3)"
      ]
     },
     "execution_count": 7,
     "metadata": {},
     "output_type": "execute_result"
    }
   ],
   "source": [
    "dataframe.shape"
   ]
  },
  {
   "cell_type": "code",
   "execution_count": 10,
   "id": "0b8402d4-30ad-40c7-b19a-c9f4d8637c31",
   "metadata": {},
   "outputs": [
    {
     "data": {
      "text/html": [
       "<div>\n",
       "<style scoped>\n",
       "    .dataframe tbody tr th:only-of-type {\n",
       "        vertical-align: middle;\n",
       "    }\n",
       "\n",
       "    .dataframe tbody tr th {\n",
       "        vertical-align: top;\n",
       "    }\n",
       "\n",
       "    .dataframe thead th {\n",
       "        text-align: right;\n",
       "    }\n",
       "</style>\n",
       "<table border=\"1\" class=\"dataframe\">\n",
       "  <thead>\n",
       "    <tr style=\"text-align: right;\">\n",
       "      <th></th>\n",
       "      <th>id</th>\n",
       "      <th>firstName</th>\n",
       "      <th>lastName</th>\n",
       "    </tr>\n",
       "  </thead>\n",
       "  <tbody>\n",
       "    <tr>\n",
       "      <th>0</th>\n",
       "      <td>1</td>\n",
       "      <td>A</td>\n",
       "      <td>B</td>\n",
       "    </tr>\n",
       "    <tr>\n",
       "      <th>1</th>\n",
       "      <td>2</td>\n",
       "      <td>B</td>\n",
       "      <td>B</td>\n",
       "    </tr>\n",
       "    <tr>\n",
       "      <th>2</th>\n",
       "      <td>3</td>\n",
       "      <td>C</td>\n",
       "      <td>A</td>\n",
       "    </tr>\n",
       "    <tr>\n",
       "      <th>3</th>\n",
       "      <td>4</td>\n",
       "      <td>A</td>\n",
       "      <td>A</td>\n",
       "    </tr>\n",
       "    <tr>\n",
       "      <th>4</th>\n",
       "      <td>5</td>\n",
       "      <td>A</td>\n",
       "      <td>A</td>\n",
       "    </tr>\n",
       "    <tr>\n",
       "      <th>5</th>\n",
       "      <td>6</td>\n",
       "      <td>B</td>\n",
       "      <td>B</td>\n",
       "    </tr>\n",
       "  </tbody>\n",
       "</table>\n",
       "</div>"
      ],
      "text/plain": [
       "   id firstName lastName\n",
       "0   1         A        B\n",
       "1   2         B        B\n",
       "2   3         C        A\n",
       "3   4         A        A\n",
       "4   5         A        A\n",
       "5   6         B        B"
      ]
     },
     "execution_count": 10,
     "metadata": {},
     "output_type": "execute_result"
    }
   ],
   "source": [
    "dataframe.head(6)"
   ]
  },
  {
   "cell_type": "code",
   "execution_count": 13,
   "id": "b473ca7f-96f9-451c-86f1-f55176df866a",
   "metadata": {},
   "outputs": [
    {
     "data": {
      "text/html": [
       "<div>\n",
       "<style scoped>\n",
       "    .dataframe tbody tr th:only-of-type {\n",
       "        vertical-align: middle;\n",
       "    }\n",
       "\n",
       "    .dataframe tbody tr th {\n",
       "        vertical-align: top;\n",
       "    }\n",
       "\n",
       "    .dataframe thead th {\n",
       "        text-align: right;\n",
       "    }\n",
       "</style>\n",
       "<table border=\"1\" class=\"dataframe\">\n",
       "  <thead>\n",
       "    <tr style=\"text-align: right;\">\n",
       "      <th></th>\n",
       "      <th>id</th>\n",
       "      <th>firstName</th>\n",
       "      <th>lastName</th>\n",
       "    </tr>\n",
       "  </thead>\n",
       "  <tbody>\n",
       "    <tr>\n",
       "      <th>2</th>\n",
       "      <td>3</td>\n",
       "      <td>C</td>\n",
       "      <td>A</td>\n",
       "    </tr>\n",
       "    <tr>\n",
       "      <th>3</th>\n",
       "      <td>4</td>\n",
       "      <td>A</td>\n",
       "      <td>A</td>\n",
       "    </tr>\n",
       "    <tr>\n",
       "      <th>4</th>\n",
       "      <td>5</td>\n",
       "      <td>A</td>\n",
       "      <td>A</td>\n",
       "    </tr>\n",
       "    <tr>\n",
       "      <th>5</th>\n",
       "      <td>6</td>\n",
       "      <td>B</td>\n",
       "      <td>B</td>\n",
       "    </tr>\n",
       "    <tr>\n",
       "      <th>6</th>\n",
       "      <td>7</td>\n",
       "      <td>C</td>\n",
       "      <td>c</td>\n",
       "    </tr>\n",
       "    <tr>\n",
       "      <th>7</th>\n",
       "      <td>8</td>\n",
       "      <td>D</td>\n",
       "      <td>A</td>\n",
       "    </tr>\n",
       "    <tr>\n",
       "      <th>8</th>\n",
       "      <td>9</td>\n",
       "      <td>d</td>\n",
       "      <td>d</td>\n",
       "    </tr>\n",
       "    <tr>\n",
       "      <th>9</th>\n",
       "      <td>10</td>\n",
       "      <td>A</td>\n",
       "      <td>d</td>\n",
       "    </tr>\n",
       "  </tbody>\n",
       "</table>\n",
       "</div>"
      ],
      "text/plain": [
       "   id firstName lastName\n",
       "2   3         C        A\n",
       "3   4         A        A\n",
       "4   5         A        A\n",
       "5   6         B        B\n",
       "6   7         C        c\n",
       "7   8         D        A\n",
       "8   9         d        d\n",
       "9  10         A        d"
      ]
     },
     "execution_count": 13,
     "metadata": {},
     "output_type": "execute_result"
    }
   ],
   "source": [
    "dataframe.tail(8)"
   ]
  },
  {
   "cell_type": "code",
   "execution_count": 14,
   "id": "313e4260-6890-4fb1-b816-09fb3d50d9d5",
   "metadata": {},
   "outputs": [
    {
     "name": "stdout",
     "output_type": "stream",
     "text": [
      "<class 'pandas.core.frame.DataFrame'>\n",
      "RangeIndex: 10 entries, 0 to 9\n",
      "Data columns (total 3 columns):\n",
      " #   Column     Non-Null Count  Dtype \n",
      "---  ------     --------------  ----- \n",
      " 0   id         10 non-null     int64 \n",
      " 1   firstName  10 non-null     object\n",
      " 2   lastName   10 non-null     object\n",
      "dtypes: int64(1), object(2)\n",
      "memory usage: 368.0+ bytes\n"
     ]
    }
   ],
   "source": [
    "dataframe.info()"
   ]
  },
  {
   "cell_type": "code",
   "execution_count": 15,
   "id": "7a9eced2-d6d8-41c8-b3b2-a3e05aa498fe",
   "metadata": {},
   "outputs": [
    {
     "data": {
      "text/plain": [
       "id            int64\n",
       "firstName    object\n",
       "lastName     object\n",
       "dtype: object"
      ]
     },
     "execution_count": 15,
     "metadata": {},
     "output_type": "execute_result"
    }
   ],
   "source": [
    "dataframe.dtypes"
   ]
  },
  {
   "cell_type": "code",
   "execution_count": 16,
   "id": "075c195e-86e5-4e5d-8d60-35578461da49",
   "metadata": {
    "tags": []
   },
   "outputs": [
    {
     "data": {
      "text/plain": [
       "0     True\n",
       "1    False\n",
       "2    False\n",
       "3     True\n",
       "4     True\n",
       "5    False\n",
       "6    False\n",
       "7    False\n",
       "8    False\n",
       "9     True\n",
       "Name: firstName, dtype: bool"
      ]
     },
     "execution_count": 16,
     "metadata": {},
     "output_type": "execute_result"
    }
   ],
   "source": [
    "dataframe[\"firstName\"] == \"A\""
   ]
  },
  {
   "cell_type": "code",
   "execution_count": 17,
   "id": "c69adc97-0ff1-4859-b046-e97c4e97e4ca",
   "metadata": {
    "tags": []
   },
   "outputs": [
    {
     "data": {
      "text/html": [
       "<div>\n",
       "<style scoped>\n",
       "    .dataframe tbody tr th:only-of-type {\n",
       "        vertical-align: middle;\n",
       "    }\n",
       "\n",
       "    .dataframe tbody tr th {\n",
       "        vertical-align: top;\n",
       "    }\n",
       "\n",
       "    .dataframe thead th {\n",
       "        text-align: right;\n",
       "    }\n",
       "</style>\n",
       "<table border=\"1\" class=\"dataframe\">\n",
       "  <thead>\n",
       "    <tr style=\"text-align: right;\">\n",
       "      <th></th>\n",
       "      <th>id</th>\n",
       "      <th>firstName</th>\n",
       "      <th>lastName</th>\n",
       "    </tr>\n",
       "  </thead>\n",
       "  <tbody>\n",
       "    <tr>\n",
       "      <th>0</th>\n",
       "      <td>1</td>\n",
       "      <td>A</td>\n",
       "      <td>B</td>\n",
       "    </tr>\n",
       "    <tr>\n",
       "      <th>3</th>\n",
       "      <td>4</td>\n",
       "      <td>A</td>\n",
       "      <td>A</td>\n",
       "    </tr>\n",
       "    <tr>\n",
       "      <th>4</th>\n",
       "      <td>5</td>\n",
       "      <td>A</td>\n",
       "      <td>A</td>\n",
       "    </tr>\n",
       "    <tr>\n",
       "      <th>9</th>\n",
       "      <td>10</td>\n",
       "      <td>A</td>\n",
       "      <td>d</td>\n",
       "    </tr>\n",
       "  </tbody>\n",
       "</table>\n",
       "</div>"
      ],
      "text/plain": [
       "   id firstName lastName\n",
       "0   1         A        B\n",
       "3   4         A        A\n",
       "4   5         A        A\n",
       "9  10         A        d"
      ]
     },
     "execution_count": 17,
     "metadata": {},
     "output_type": "execute_result"
    }
   ],
   "source": [
    "dataframe.loc[dataframe[\"firstName\"] == \"A\",]"
   ]
  },
  {
   "cell_type": "code",
   "execution_count": 18,
   "id": "36ad88eb-78ec-4937-a1c9-46162bdf98f2",
   "metadata": {
    "tags": []
   },
   "outputs": [
    {
     "data": {
      "text/html": [
       "<div>\n",
       "<style scoped>\n",
       "    .dataframe tbody tr th:only-of-type {\n",
       "        vertical-align: middle;\n",
       "    }\n",
       "\n",
       "    .dataframe tbody tr th {\n",
       "        vertical-align: top;\n",
       "    }\n",
       "\n",
       "    .dataframe thead th {\n",
       "        text-align: right;\n",
       "    }\n",
       "</style>\n",
       "<table border=\"1\" class=\"dataframe\">\n",
       "  <thead>\n",
       "    <tr style=\"text-align: right;\">\n",
       "      <th></th>\n",
       "      <th>id</th>\n",
       "      <th>lastName</th>\n",
       "    </tr>\n",
       "  </thead>\n",
       "  <tbody>\n",
       "    <tr>\n",
       "      <th>0</th>\n",
       "      <td>1</td>\n",
       "      <td>B</td>\n",
       "    </tr>\n",
       "    <tr>\n",
       "      <th>3</th>\n",
       "      <td>4</td>\n",
       "      <td>A</td>\n",
       "    </tr>\n",
       "    <tr>\n",
       "      <th>4</th>\n",
       "      <td>5</td>\n",
       "      <td>A</td>\n",
       "    </tr>\n",
       "    <tr>\n",
       "      <th>9</th>\n",
       "      <td>10</td>\n",
       "      <td>d</td>\n",
       "    </tr>\n",
       "  </tbody>\n",
       "</table>\n",
       "</div>"
      ],
      "text/plain": [
       "   id lastName\n",
       "0   1        B\n",
       "3   4        A\n",
       "4   5        A\n",
       "9  10        d"
      ]
     },
     "execution_count": 18,
     "metadata": {},
     "output_type": "execute_result"
    }
   ],
   "source": [
    "dataframe.loc[dataframe[\"firstName\"] == \"A\",[\"id\",\"lastName\"]]"
   ]
  },
  {
   "cell_type": "markdown",
   "id": "4a20616c-71cc-461b-a5d5-4a6ab4e7dc5d",
   "metadata": {},
   "source": [
    "## or"
   ]
  },
  {
   "cell_type": "code",
   "execution_count": 19,
   "id": "c95b6ef8-68da-4836-9314-5339c01b8c27",
   "metadata": {
    "tags": []
   },
   "outputs": [
    {
     "data": {
      "text/plain": [
       "0     True\n",
       "1    False\n",
       "2    False\n",
       "3     True\n",
       "4     True\n",
       "5    False\n",
       "6    False\n",
       "7    False\n",
       "8    False\n",
       "9     True\n",
       "Name: firstName, dtype: bool"
      ]
     },
     "execution_count": 19,
     "metadata": {},
     "output_type": "execute_result"
    }
   ],
   "source": [
    "condition1 = dataframe[\"firstName\"] == \"A\" \n",
    "condition1"
   ]
  },
  {
   "cell_type": "code",
   "execution_count": 20,
   "id": "91b1a58a-9dbe-4e7c-9d5d-b109c41c9ecc",
   "metadata": {
    "tags": []
   },
   "outputs": [
    {
     "data": {
      "text/plain": [
       "0    False\n",
       "1    False\n",
       "2     True\n",
       "3     True\n",
       "4     True\n",
       "5    False\n",
       "6    False\n",
       "7     True\n",
       "8    False\n",
       "9    False\n",
       "Name: lastName, dtype: bool"
      ]
     },
     "execution_count": 20,
     "metadata": {},
     "output_type": "execute_result"
    }
   ],
   "source": [
    "condition2 = dataframe[\"lastName\"] == \"A\"\n",
    "condition2"
   ]
  },
  {
   "cell_type": "code",
   "execution_count": 21,
   "id": "ed7a75e6-fa60-46d0-970e-9b5ddd055f73",
   "metadata": {
    "tags": []
   },
   "outputs": [
    {
     "data": {
      "text/plain": [
       "0     True\n",
       "1    False\n",
       "2     True\n",
       "3     True\n",
       "4     True\n",
       "5    False\n",
       "6    False\n",
       "7     True\n",
       "8    False\n",
       "9     True\n",
       "dtype: bool"
      ]
     },
     "execution_count": 21,
     "metadata": {},
     "output_type": "execute_result"
    }
   ],
   "source": [
    "condition1 | condition2"
   ]
  },
  {
   "cell_type": "code",
   "execution_count": 22,
   "id": "b4c984ef-2549-4473-90cf-c2edd9b6ca47",
   "metadata": {},
   "outputs": [
    {
     "data": {
      "text/html": [
       "<div>\n",
       "<style scoped>\n",
       "    .dataframe tbody tr th:only-of-type {\n",
       "        vertical-align: middle;\n",
       "    }\n",
       "\n",
       "    .dataframe tbody tr th {\n",
       "        vertical-align: top;\n",
       "    }\n",
       "\n",
       "    .dataframe thead th {\n",
       "        text-align: right;\n",
       "    }\n",
       "</style>\n",
       "<table border=\"1\" class=\"dataframe\">\n",
       "  <thead>\n",
       "    <tr style=\"text-align: right;\">\n",
       "      <th></th>\n",
       "      <th>id</th>\n",
       "      <th>firstName</th>\n",
       "      <th>lastName</th>\n",
       "    </tr>\n",
       "  </thead>\n",
       "  <tbody>\n",
       "    <tr>\n",
       "      <th>0</th>\n",
       "      <td>1</td>\n",
       "      <td>A</td>\n",
       "      <td>B</td>\n",
       "    </tr>\n",
       "    <tr>\n",
       "      <th>2</th>\n",
       "      <td>3</td>\n",
       "      <td>C</td>\n",
       "      <td>A</td>\n",
       "    </tr>\n",
       "    <tr>\n",
       "      <th>3</th>\n",
       "      <td>4</td>\n",
       "      <td>A</td>\n",
       "      <td>A</td>\n",
       "    </tr>\n",
       "    <tr>\n",
       "      <th>4</th>\n",
       "      <td>5</td>\n",
       "      <td>A</td>\n",
       "      <td>A</td>\n",
       "    </tr>\n",
       "    <tr>\n",
       "      <th>7</th>\n",
       "      <td>8</td>\n",
       "      <td>D</td>\n",
       "      <td>A</td>\n",
       "    </tr>\n",
       "    <tr>\n",
       "      <th>9</th>\n",
       "      <td>10</td>\n",
       "      <td>A</td>\n",
       "      <td>d</td>\n",
       "    </tr>\n",
       "  </tbody>\n",
       "</table>\n",
       "</div>"
      ],
      "text/plain": [
       "   id firstName lastName\n",
       "0   1         A        B\n",
       "2   3         C        A\n",
       "3   4         A        A\n",
       "4   5         A        A\n",
       "7   8         D        A\n",
       "9  10         A        d"
      ]
     },
     "execution_count": 22,
     "metadata": {},
     "output_type": "execute_result"
    }
   ],
   "source": [
    "dataframe.loc[condition1 | condition2,]"
   ]
  },
  {
   "cell_type": "code",
   "execution_count": 14,
   "id": "35509334-980c-4ee7-86a0-2858e57ea5c6",
   "metadata": {
    "collapsed": true,
    "jupyter": {
     "outputs_hidden": true
    },
    "tags": []
   },
   "outputs": [
    {
     "data": {
      "text/plain": [
       "0     True\n",
       "1    False\n",
       "2     True\n",
       "3     True\n",
       "4     True\n",
       "5    False\n",
       "6    False\n",
       "7     True\n",
       "8    False\n",
       "9     True\n",
       "dtype: bool"
      ]
     },
     "execution_count": 14,
     "metadata": {},
     "output_type": "execute_result"
    }
   ],
   "source": [
    "(dataframe[\"firstName\"] == \"A\" ) | (dataframe[\"lastName\"] == \"A\" )"
   ]
  },
  {
   "cell_type": "code",
   "execution_count": null,
   "id": "f933d64d-e691-40a1-9990-76fae88e7719",
   "metadata": {},
   "outputs": [],
   "source": [
    "dataframe.loc[,]"
   ]
  },
  {
   "cell_type": "code",
   "execution_count": 24,
   "id": "9414f4e5-0c09-49c9-aae6-6430d9977ee5",
   "metadata": {
    "collapsed": true,
    "jupyter": {
     "outputs_hidden": true
    },
    "tags": []
   },
   "outputs": [
    {
     "data": {
      "text/html": [
       "<div>\n",
       "<style scoped>\n",
       "    .dataframe tbody tr th:only-of-type {\n",
       "        vertical-align: middle;\n",
       "    }\n",
       "\n",
       "    .dataframe tbody tr th {\n",
       "        vertical-align: top;\n",
       "    }\n",
       "\n",
       "    .dataframe thead th {\n",
       "        text-align: right;\n",
       "    }\n",
       "</style>\n",
       "<table border=\"1\" class=\"dataframe\">\n",
       "  <thead>\n",
       "    <tr style=\"text-align: right;\">\n",
       "      <th></th>\n",
       "      <th>lastName</th>\n",
       "      <th>id</th>\n",
       "    </tr>\n",
       "  </thead>\n",
       "  <tbody>\n",
       "    <tr>\n",
       "      <th>0</th>\n",
       "      <td>B</td>\n",
       "      <td>1</td>\n",
       "    </tr>\n",
       "    <tr>\n",
       "      <th>2</th>\n",
       "      <td>A</td>\n",
       "      <td>3</td>\n",
       "    </tr>\n",
       "    <tr>\n",
       "      <th>3</th>\n",
       "      <td>A</td>\n",
       "      <td>4</td>\n",
       "    </tr>\n",
       "    <tr>\n",
       "      <th>4</th>\n",
       "      <td>A</td>\n",
       "      <td>5</td>\n",
       "    </tr>\n",
       "    <tr>\n",
       "      <th>7</th>\n",
       "      <td>A</td>\n",
       "      <td>8</td>\n",
       "    </tr>\n",
       "    <tr>\n",
       "      <th>9</th>\n",
       "      <td>d</td>\n",
       "      <td>10</td>\n",
       "    </tr>\n",
       "  </tbody>\n",
       "</table>\n",
       "</div>"
      ],
      "text/plain": [
       "  lastName  id\n",
       "0        B   1\n",
       "2        A   3\n",
       "3        A   4\n",
       "4        A   5\n",
       "7        A   8\n",
       "9        d  10"
      ]
     },
     "execution_count": 24,
     "metadata": {},
     "output_type": "execute_result"
    }
   ],
   "source": [
    "dataframe.loc[(dataframe[\"firstName\"] == \"A\" ) | (dataframe[\"lastName\"] == \"A\" ),[\"lastName\",\"id\"]]"
   ]
  },
  {
   "cell_type": "markdown",
   "id": "0ee5004a-9f8c-4a87-ac17-e976f9b0779c",
   "metadata": {},
   "source": [
    "### and "
   ]
  },
  {
   "cell_type": "code",
   "execution_count": 23,
   "id": "d7ca932b-338e-4a52-a853-17df4db5e7da",
   "metadata": {
    "tags": []
   },
   "outputs": [
    {
     "data": {
      "text/plain": [
       "0    False\n",
       "1    False\n",
       "2    False\n",
       "3     True\n",
       "4     True\n",
       "5    False\n",
       "6    False\n",
       "7    False\n",
       "8    False\n",
       "9    False\n",
       "dtype: bool"
      ]
     },
     "execution_count": 23,
     "metadata": {},
     "output_type": "execute_result"
    }
   ],
   "source": [
    "condition1 & condition2"
   ]
  },
  {
   "cell_type": "code",
   "execution_count": 24,
   "id": "58d1cdd5-8edf-4f09-bb04-f267b4d252c7",
   "metadata": {},
   "outputs": [],
   "source": [
    "abc = dataframe.loc[condition1 & condition2,]"
   ]
  },
  {
   "cell_type": "code",
   "execution_count": 25,
   "id": "50396fc1-b4e7-4845-a184-3e15c50f94ce",
   "metadata": {
    "tags": []
   },
   "outputs": [
    {
     "data": {
      "text/html": [
       "<div>\n",
       "<style scoped>\n",
       "    .dataframe tbody tr th:only-of-type {\n",
       "        vertical-align: middle;\n",
       "    }\n",
       "\n",
       "    .dataframe tbody tr th {\n",
       "        vertical-align: top;\n",
       "    }\n",
       "\n",
       "    .dataframe thead th {\n",
       "        text-align: right;\n",
       "    }\n",
       "</style>\n",
       "<table border=\"1\" class=\"dataframe\">\n",
       "  <thead>\n",
       "    <tr style=\"text-align: right;\">\n",
       "      <th></th>\n",
       "      <th>id</th>\n",
       "      <th>firstName</th>\n",
       "      <th>lastName</th>\n",
       "    </tr>\n",
       "  </thead>\n",
       "  <tbody>\n",
       "    <tr>\n",
       "      <th>3</th>\n",
       "      <td>4</td>\n",
       "      <td>A</td>\n",
       "      <td>A</td>\n",
       "    </tr>\n",
       "    <tr>\n",
       "      <th>4</th>\n",
       "      <td>5</td>\n",
       "      <td>A</td>\n",
       "      <td>A</td>\n",
       "    </tr>\n",
       "  </tbody>\n",
       "</table>\n",
       "</div>"
      ],
      "text/plain": [
       "   id firstName lastName\n",
       "3   4         A        A\n",
       "4   5         A        A"
      ]
     },
     "execution_count": 25,
     "metadata": {},
     "output_type": "execute_result"
    }
   ],
   "source": [
    "abc"
   ]
  },
  {
   "cell_type": "code",
   "execution_count": 49,
   "id": "fd6d8df3-6fce-4af4-a71e-f6356b6fe8d9",
   "metadata": {},
   "outputs": [
    {
     "data": {
      "text/html": [
       "<div>\n",
       "<style scoped>\n",
       "    .dataframe tbody tr th:only-of-type {\n",
       "        vertical-align: middle;\n",
       "    }\n",
       "\n",
       "    .dataframe tbody tr th {\n",
       "        vertical-align: top;\n",
       "    }\n",
       "\n",
       "    .dataframe thead th {\n",
       "        text-align: right;\n",
       "    }\n",
       "</style>\n",
       "<table border=\"1\" class=\"dataframe\">\n",
       "  <thead>\n",
       "    <tr style=\"text-align: right;\">\n",
       "      <th></th>\n",
       "      <th>id</th>\n",
       "      <th>firstName</th>\n",
       "      <th>lastName</th>\n",
       "    </tr>\n",
       "  </thead>\n",
       "  <tbody>\n",
       "    <tr>\n",
       "      <th>0</th>\n",
       "      <td>1</td>\n",
       "      <td>A</td>\n",
       "      <td>B</td>\n",
       "    </tr>\n",
       "    <tr>\n",
       "      <th>1</th>\n",
       "      <td>2</td>\n",
       "      <td>B</td>\n",
       "      <td>B</td>\n",
       "    </tr>\n",
       "    <tr>\n",
       "      <th>2</th>\n",
       "      <td>3</td>\n",
       "      <td>C</td>\n",
       "      <td>A</td>\n",
       "    </tr>\n",
       "    <tr>\n",
       "      <th>3</th>\n",
       "      <td>4</td>\n",
       "      <td>A</td>\n",
       "      <td>A</td>\n",
       "    </tr>\n",
       "  </tbody>\n",
       "</table>\n",
       "</div>"
      ],
      "text/plain": [
       "   id firstName lastName\n",
       "0   1         A        B\n",
       "1   2         B        B\n",
       "2   3         C        A\n",
       "3   4         A        A"
      ]
     },
     "execution_count": 49,
     "metadata": {},
     "output_type": "execute_result"
    }
   ],
   "source": [
    "dataframe.loc[0:3,]"
   ]
  },
  {
   "cell_type": "markdown",
   "id": "8d346b61-7d63-4f36-b044-f26e3f4bff34",
   "metadata": {},
   "source": [
    "True     or   True    =  True\n",
    "True     or   False    =  True\n",
    "False     or   False =      False"
   ]
  },
  {
   "cell_type": "markdown",
   "id": "c8ad777e-3f3d-4664-ba35-71449ababf6e",
   "metadata": {},
   "source": [
    "A =   condition1   \n",
    "B =    condition2"
   ]
  },
  {
   "cell_type": "code",
   "execution_count": 37,
   "id": "61caab57-7381-4288-9a27-e982f05a96c9",
   "metadata": {},
   "outputs": [],
   "source": [
    "x = 5 \n",
    "y = 6"
   ]
  },
  {
   "cell_type": "code",
   "execution_count": 38,
   "id": "5fb61979-5b7e-4e09-b951-0f57456240fc",
   "metadata": {},
   "outputs": [
    {
     "data": {
      "text/plain": [
       "False"
      ]
     },
     "execution_count": 38,
     "metadata": {},
     "output_type": "execute_result"
    }
   ],
   "source": [
    "A =  x >= 7\n",
    "A"
   ]
  },
  {
   "cell_type": "code",
   "execution_count": 39,
   "id": "81bfe342-90d2-48b0-be79-366c059eb1d0",
   "metadata": {},
   "outputs": [
    {
     "data": {
      "text/plain": [
       "True"
      ]
     },
     "execution_count": 39,
     "metadata": {},
     "output_type": "execute_result"
    }
   ],
   "source": [
    "B = y >= 6\n",
    "B"
   ]
  },
  {
   "cell_type": "code",
   "execution_count": 40,
   "id": "a2d37bf3-d3fa-4dab-95b2-9b732e9e6315",
   "metadata": {},
   "outputs": [
    {
     "data": {
      "text/plain": [
       "True"
      ]
     },
     "execution_count": 40,
     "metadata": {},
     "output_type": "execute_result"
    }
   ],
   "source": [
    "c  =  A or B\n",
    "c"
   ]
  },
  {
   "cell_type": "code",
   "execution_count": 8,
   "id": "f2b09670-7bba-4f14-9ff5-6866608162f5",
   "metadata": {},
   "outputs": [],
   "source": [
    "#  and Operatoer"
   ]
  },
  {
   "cell_type": "code",
   "execution_count": 26,
   "id": "7f148a0b-dcd5-4282-b7e1-4e7d4ae73bfb",
   "metadata": {},
   "outputs": [
    {
     "name": "stdin",
     "output_type": "stream",
     "text": [
      "please enter your password 26\n"
     ]
    },
    {
     "data": {
      "text/plain": [
       "26"
      ]
     },
     "execution_count": 26,
     "metadata": {},
     "output_type": "execute_result"
    }
   ],
   "source": [
    "int(input(\"please enter your password\"))"
   ]
  },
  {
   "cell_type": "markdown",
   "id": "c7a549f1-dac5-4ed8-a783-fbf34f4f4be5",
   "metadata": {},
   "source": [
    "True     and    True    =  True\n",
    "True     and    False    =  False\n",
    "False     and    False =      False"
   ]
  },
  {
   "cell_type": "code",
   "execution_count": 21,
   "id": "97d73e95-0e50-4534-ab90-a771db155153",
   "metadata": {},
   "outputs": [
    {
     "name": "stdin",
     "output_type": "stream",
     "text": [
      "Enter the numeric grade 50\n"
     ]
    }
   ],
   "source": [
    "numericGrade  = int(input(\"Enter the numeric grade\"))"
   ]
  },
  {
   "cell_type": "code",
   "execution_count": 22,
   "id": "b3a4c825-6990-4aa8-badc-5a226043df46",
   "metadata": {},
   "outputs": [
    {
     "data": {
      "text/plain": [
       "50"
      ]
     },
     "execution_count": 22,
     "metadata": {},
     "output_type": "execute_result"
    }
   ],
   "source": [
    "numericGrade"
   ]
  },
  {
   "cell_type": "code",
   "execution_count": 61,
   "id": "22456c35-3d61-4e1f-876d-d099bf68a1df",
   "metadata": {},
   "outputs": [
    {
     "name": "stdin",
     "output_type": "stream",
     "text": [
      " 65\n"
     ]
    },
    {
     "data": {
      "text/plain": [
       "65"
      ]
     },
     "execution_count": 61,
     "metadata": {},
     "output_type": "execute_result"
    }
   ],
   "source": [
    "int(input())"
   ]
  },
  {
   "cell_type": "code",
   "execution_count": 32,
   "id": "05e78b40-c10a-4c27-819e-9002c5283337",
   "metadata": {},
   "outputs": [
    {
     "name": "stdin",
     "output_type": "stream",
     "text": [
      "please enter your CGPA 45\n"
     ]
    }
   ],
   "source": [
    "CGPA = input(\"please enter your CGPA\")\n"
   ]
  },
  {
   "cell_type": "code",
   "execution_count": 33,
   "id": "f23725d1-b525-4406-b1ef-44f05646fc3c",
   "metadata": {},
   "outputs": [],
   "source": [
    "CGPA1 = int(CGPA)"
   ]
  },
  {
   "cell_type": "code",
   "execution_count": 34,
   "id": "95f2234b-7584-4082-8f04-7cd373113404",
   "metadata": {},
   "outputs": [],
   "source": [
    "if CGPA1 >= 50:\n",
    "    print(\"pass\")"
   ]
  },
  {
   "cell_type": "code",
   "execution_count": 35,
   "id": "ee0df7be-38ae-4c6a-ac31-60a0bf9ef13d",
   "metadata": {},
   "outputs": [
    {
     "name": "stdin",
     "output_type": "stream",
     "text": [
      "please enter your CGPA: 89\n"
     ]
    }
   ],
   "source": [
    "CGPA2 = int(input(\"please enter your CGPA:\"))"
   ]
  },
  {
   "cell_type": "code",
   "execution_count": 36,
   "id": "5c2c70ca-55aa-4b67-baf4-bd95c1841dc2",
   "metadata": {},
   "outputs": [
    {
     "name": "stdout",
     "output_type": "stream",
     "text": [
      "pass\n"
     ]
    }
   ],
   "source": [
    "if CGPA2 >= 50:\n",
    "    print(\"pass\")"
   ]
  },
  {
   "cell_type": "code",
   "execution_count": null,
   "id": "13a5c2c5-bd24-4d44-a709-805df7f967a1",
   "metadata": {},
   "outputs": [],
   "source": []
  },
  {
   "cell_type": "markdown",
   "id": "cf4568fb-4e10-40fa-97fa-54e8a036a000",
   "metadata": {},
   "source": [
    "## one-way Selection Statements: Syntax and Structure"
   ]
  },
  {
   "cell_type": "markdown",
   "id": "3421e214-bed9-4044-a4d9-779efeb870d2",
   "metadata": {},
   "source": [
    "if  <condition>:\n",
    "     <sequence of statements>"
   ]
  },
  {
   "cell_type": "markdown",
   "id": "aa722599-d65a-4dd3-9c12-9e20abf7f059",
   "metadata": {},
   "source": [
    "1. The <condition> is a Boolean expression which consists of the Boolean values: True or False\n",
    "2. These statements consist of a condition and just a single sequence of statements\n",
    "3. A Boolean value is a result of a comparison expression. These expressions includes the following relational\n",
    "operators: ==; ! =; <; >;<=;>=\n",
    " 4. If the condition is True, the sequence of statements is executed. Otherwise, control proceeds to the next\n",
    "statement outside the selection statement"
   ]
  },
  {
   "cell_type": "code",
   "execution_count": 65,
   "id": "0e62208b-1abc-4b2a-9612-712e5852c2a2",
   "metadata": {},
   "outputs": [
    {
     "name": "stdin",
     "output_type": "stream",
     "text": [
      "Enter the numeric grade 51.10\n"
     ]
    },
    {
     "name": "stdout",
     "output_type": "stream",
     "text": [
      "pass\n"
     ]
    }
   ],
   "source": [
    "numericGrade  = int(float(input(\"Enter the numeric grade\")))\n",
    "if numericGrade >= 50:\n",
    "    print(\"pass\")\n",
    "if numericGrade < 50:\n",
    "    print(\"Fail\")"
   ]
  },
  {
   "cell_type": "code",
   "execution_count": 66,
   "id": "6f124cb2-3153-4747-855a-c70f2dd842e0",
   "metadata": {},
   "outputs": [
    {
     "data": {
      "text/plain": [
       "51"
      ]
     },
     "execution_count": 66,
     "metadata": {},
     "output_type": "execute_result"
    }
   ],
   "source": [
    "numericGrade"
   ]
  },
  {
   "cell_type": "code",
   "execution_count": 26,
   "id": "fbba9372-764a-43fb-aed1-54a6d013531e",
   "metadata": {},
   "outputs": [
    {
     "data": {
      "text/plain": [
       "False"
      ]
     },
     "execution_count": 26,
     "metadata": {},
     "output_type": "execute_result"
    }
   ],
   "source": [
    "numericGrade >= 50"
   ]
  },
  {
   "cell_type": "code",
   "execution_count": null,
   "id": "da04cb3b-e762-409b-9a3b-f741193e35f9",
   "metadata": {},
   "outputs": [],
   "source": [
    "if numericGrade >= 50:\n",
    "    print(\"pass\")"
   ]
  },
  {
   "cell_type": "markdown",
   "id": "c46db794-41b6-4152-b240-037f5674687a",
   "metadata": {},
   "source": [
    "question1:  we will calculate the square of a number if it greater than 5"
   ]
  },
  {
   "cell_type": "code",
   "execution_count": 38,
   "id": "bb44437a-64f7-4f4c-8fd5-5e02afbc3488",
   "metadata": {},
   "outputs": [
    {
     "name": "stdin",
     "output_type": "stream",
     "text": [
      "please enter the number 2\n"
     ]
    }
   ],
   "source": [
    "number = int(input(\"please enter the number\"))"
   ]
  },
  {
   "cell_type": "code",
   "execution_count": 39,
   "id": "59a88bcf-d11e-405a-96db-41377c9a31ad",
   "metadata": {},
   "outputs": [],
   "source": [
    "if number > 5:\n",
    "    print(number**2)"
   ]
  },
  {
   "cell_type": "code",
   "execution_count": null,
   "id": "1ab2be89-d90f-468f-9d0a-4c553f52b0c5",
   "metadata": {},
   "outputs": [],
   "source": []
  },
  {
   "cell_type": "markdown",
   "id": "c8fbcf4c-f2ee-43a9-9d1c-23b9b56b369d",
   "metadata": {},
   "source": [
    "## Two-way Selection Statements: Syntax and Structure"
   ]
  },
  {
   "cell_type": "markdown",
   "id": "dbfda634-bb18-432d-af0d-8cf68aa64a48",
   "metadata": {},
   "source": [
    "if  <condition>:\n",
    "    <sequence of statements1>\n",
    "else:\n",
    "     <sequence of statements2>"
   ]
  },
  {
   "cell_type": "markdown",
   "id": "cd4cc947-25de-42c0-bc2a-dc51121e9d36",
   "metadata": {},
   "source": [
    "# Each <sequence of statements> must be indented at least one space beyond both symbols 'if' and 'else'\n",
    "# If the condition is True, the first sequence of statements is executed. Otherwise, the second sequence of statements is executed. Then control proceeds to the next statement outside the selection statement"
   ]
  },
  {
   "cell_type": "code",
   "execution_count": 42,
   "id": "42bd5d5e-ca55-4284-8f55-edf607d7cda2",
   "metadata": {},
   "outputs": [
    {
     "name": "stdin",
     "output_type": "stream",
     "text": [
      "Enter the numeric grade 45\n"
     ]
    },
    {
     "name": "stdout",
     "output_type": "stream",
     "text": [
      "fail\n"
     ]
    }
   ],
   "source": [
    "numericGrade  = int(input(\"Enter the numeric grade\"))\n",
    "if numericGrade >= 50:\n",
    "    print(\"pass\")\n",
    "else:\n",
    "    print(\"fail\")\n",
    "    "
   ]
  },
  {
   "cell_type": "code",
   "execution_count": null,
   "id": "1445115f-3a4c-4665-89cc-52111992e64a",
   "metadata": {},
   "outputs": [],
   "source": []
  },
  {
   "cell_type": "code",
   "execution_count": 43,
   "id": "81066fcb-ef27-410a-add3-b3b0e860d285",
   "metadata": {},
   "outputs": [
    {
     "name": "stdin",
     "output_type": "stream",
     "text": [
      "Enter password Seneca\n"
     ]
    }
   ],
   "source": [
    "password = input(\"Enter password\")"
   ]
  },
  {
   "cell_type": "code",
   "execution_count": 45,
   "id": "5581a850-0e59-44d2-8731-39ec0ef62d2f",
   "metadata": {},
   "outputs": [
    {
     "name": "stdout",
     "output_type": "stream",
     "text": [
      "Incorrect Password\n"
     ]
    }
   ],
   "source": [
    "if password == 'savita':\n",
    "    print(\"correct password\")\n",
    "else:\n",
    "    print(\"Incorrect Password\")"
   ]
  },
  {
   "cell_type": "markdown",
   "id": "dc058369-b0a5-4fbe-8ba7-871213185ef1",
   "metadata": {},
   "source": [
    "## Multi-way Selection Statements: Syntax and Structure"
   ]
  },
  {
   "cell_type": "markdown",
   "id": "281a32fb-d14a-46dd-858f-a58d7bdff1f6",
   "metadata": {},
   "source": [
    "1. Multi-way statements consider each condition until one evaluates to True or they all evaluate to False\n",
    "2. When a condition evaluates to True, the corresponding sequence of statements is executed and control skips to the end of the entire selection statement.\n",
    "3. If no condition evaluates to True, then the corresponding <sequence of statements> to the trailing else is executed"
   ]
  },
  {
   "cell_type": "code",
   "execution_count": 58,
   "id": "2bde528b-419b-4b32-b453-469679752c8b",
   "metadata": {},
   "outputs": [
    {
     "name": "stdin",
     "output_type": "stream",
     "text": [
      "please enter your grade 67\n"
     ]
    },
    {
     "name": "stdout",
     "output_type": "stream",
     "text": [
      "Grade D\n"
     ]
    }
   ],
   "source": [
    "numericGrade  =  int(input(\"please enter your grade\"))\n",
    "if numericGrade > 90:\n",
    "    print(\"Grade A\")\n",
    "elif numericGrade > 80:\n",
    "    print(\"Grade B\")\n",
    "elif numericGrade > 70:\n",
    "    print(\"Grade C\")\n",
    "elif numericGrade > 60:\n",
    "    print(\"Grade D\")\n",
    "elif numericGrade >  50:\n",
    "    print(\"Grade E\")\n",
    "else :\n",
    "    print(\"Fail\")"
   ]
  },
  {
   "cell_type": "code",
   "execution_count": null,
   "id": "92625bcd-78d1-40ca-a6a0-1a443271b013",
   "metadata": {},
   "outputs": [],
   "source": []
  },
  {
   "cell_type": "markdown",
   "id": "2f6377db-12aa-4334-9887-2230b5635287",
   "metadata": {},
   "source": [
    "Question2:  write a program to check whether a person is eligible for voting or not.(accept age from user)"
   ]
  },
  {
   "cell_type": "code",
   "execution_count": 67,
   "id": "a841b788-3e28-4412-8427-a2a07ae4435c",
   "metadata": {},
   "outputs": [
    {
     "name": "stdin",
     "output_type": "stream",
     "text": [
      "please enter age 25\n"
     ]
    },
    {
     "name": "stdout",
     "output_type": "stream",
     "text": [
      "eligible\n"
     ]
    }
   ],
   "source": [
    "age = int(input(\"please enter age\"))\n",
    "if age > 18:\n",
    "    print(\"eligible\")\n",
    "else:\n",
    "    print(\"Not Eligible\")"
   ]
  },
  {
   "cell_type": "markdown",
   "id": "b44f7770-25f9-4b32-b2fd-090710d6cbe1",
   "metadata": {},
   "source": [
    "Question3: write a program to check whether a number is divisible by 7 or not."
   ]
  },
  {
   "cell_type": "code",
   "execution_count": null,
   "id": "63704670-e310-46ae-8c32-5ce056c6bc3d",
   "metadata": {},
   "outputs": [],
   "source": []
  },
  {
   "cell_type": "code",
   "execution_count": 55,
   "id": "d02aff84-af00-4c95-9ec5-35d35573e388",
   "metadata": {},
   "outputs": [
    {
     "name": "stdin",
     "output_type": "stream",
     "text": [
      "please enter the number 49\n"
     ]
    },
    {
     "name": "stdout",
     "output_type": "stream",
     "text": [
      "Number is divisible\n"
     ]
    }
   ],
   "source": [
    "num = int(input(\"please enter the number\"))\n",
    "if num  % 7 == 0:\n",
    "    print(\"Number is divisible\")\n",
    "else:\n",
    "    print(\"Number isn't divisible\")"
   ]
  },
  {
   "cell_type": "markdown",
   "id": "33c5bed4-5485-4019-b759-94eb8e3f906c",
   "metadata": {},
   "source": [
    "Question4: write a program to display \"Hello\" if number entered by user is multiple of five, otherwise print \"Bye\""
   ]
  },
  {
   "cell_type": "raw",
   "id": "c846c5ad-c769-439a-aa9a-bc49a0837558",
   "metadata": {},
   "source": [
    "question5 : write a program to accept the cost price of a bike and display the road tax to be paid according to the following criteria:\n",
    "    cost price                 Tax\n",
    "    > 100000                   15%\n",
    "    >50000 and <= 10000        10%\n",
    "    <= 50000                   5%"
   ]
  },
  {
   "cell_type": "code",
   "execution_count": null,
   "id": "7946e6fa-3796-4acf-ac68-b8215748a28c",
   "metadata": {},
   "outputs": [],
   "source": []
  },
  {
   "cell_type": "code",
   "execution_count": 71,
   "id": "493c81af-4209-4f31-9e4a-621f5e41e730",
   "metadata": {},
   "outputs": [
    {
     "data": {
      "text/plain": [
       "18000.0"
      ]
     },
     "execution_count": 71,
     "metadata": {},
     "output_type": "execute_result"
    }
   ],
   "source": [
    "(120000*15)/100"
   ]
  },
  {
   "cell_type": "code",
   "execution_count": 72,
   "id": "825a34af-f9de-47c7-9316-5df9a503b3ad",
   "metadata": {},
   "outputs": [
    {
     "name": "stdin",
     "output_type": "stream",
     "text": [
      "enter the price of bike 120000\n"
     ]
    },
    {
     "name": "stdout",
     "output_type": "stream",
     "text": [
      "18000.0\n"
     ]
    }
   ],
   "source": [
    "price = int(input(\"enter the price of bike\"))\n",
    "if price > 100000:\n",
    "            print( (15 /100)*price)\n",
    "elif price > 50000:\n",
    "            print( (10 /100)*price)\n",
    "else:\n",
    "    print( (5 /100)*price)\n",
    "            \n",
    "    "
   ]
  },
  {
   "cell_type": "code",
   "execution_count": null,
   "id": "8ac97ccf-7126-4403-b00c-a236f0821e51",
   "metadata": {},
   "outputs": [],
   "source": []
  },
  {
   "cell_type": "markdown",
   "id": "1f81d53f-7cc7-409c-a29a-1b84551fcedd",
   "metadata": {},
   "source": [
    "Question6:  write a program to accept a number from 1 to 7 and display the name of the day like 1 for sunday, 2 for monday and so on."
   ]
  },
  {
   "cell_type": "code",
   "execution_count": null,
   "id": "ae3979c8-543e-4f63-838f-251f4fe8208c",
   "metadata": {},
   "outputs": [],
   "source": [
    "number ==  1"
   ]
  },
  {
   "cell_type": "code",
   "execution_count": 61,
   "id": "97a5cdb5-80d6-4a97-be93-41e13e48baf5",
   "metadata": {},
   "outputs": [
    {
     "name": "stdin",
     "output_type": "stream",
     "text": [
      "Enter the number from 1 to 7:  7\n"
     ]
    },
    {
     "name": "stdout",
     "output_type": "stream",
     "text": [
      "Saturday\n"
     ]
    }
   ],
   "source": [
    "number  = int(input(\"Enter the number from 1 to 7: \"))\n",
    "if number == 1:\n",
    "    print(\"sunday\")\n",
    "elif number == 2:\n",
    "    print(\"Monday\")\n",
    "elif number == 3:\n",
    "    print(\"Tuesday\")\n",
    "elif number == 4:\n",
    "    print(\"Wednesday\")\n",
    "elif number == 5:\n",
    "    print(\"Thursday\")\n",
    "elif number == 6:\n",
    "    print(\"Friday\")\n",
    "else :\n",
    "    print(\"Saturday\")"
   ]
  },
  {
   "cell_type": "markdown",
   "id": "7010ac09-8904-417b-b96b-b0c9f0bcc9f0",
   "metadata": {},
   "source": [
    "Question7 : write a program to find the lowest number out of two numbers excepted from user."
   ]
  },
  {
   "cell_type": "code",
   "execution_count": 63,
   "id": "6a17bda6-2950-497d-b06c-3eb9bf045f5e",
   "metadata": {},
   "outputs": [
    {
     "name": "stdin",
     "output_type": "stream",
     "text": [
      "please enter first number:  28\n",
      "please enter second number:  105\n"
     ]
    },
    {
     "name": "stdout",
     "output_type": "stream",
     "text": [
      "lowest number :  28\n"
     ]
    }
   ],
   "source": [
    "number1 = int(input(\"please enter first number: \"))\n",
    "number2 = int(input(\"please enter second number: \"))\n",
    "if number1 > number2 :\n",
    "    print( \"lowest number : \",number2)\n",
    "else:\n",
    "    print(\"lowest number : \",number1)"
   ]
  },
  {
   "cell_type": "markdown",
   "id": "fe9fd4eb-e2fd-4854-bff2-fcadd32f4cc9",
   "metadata": {},
   "source": [
    "Question8 : write a program to find the largest number out of two numbers excepted from user."
   ]
  },
  {
   "cell_type": "code",
   "execution_count": null,
   "id": "59697c28-662e-4f96-8250-f7a4f419d21d",
   "metadata": {},
   "outputs": [],
   "source": [
    "number1 = int(input(\"please enter first number: \"))\n",
    "number2 = int(input(\"please enter second number: \"))\n",
    "if number1 > number2 :\n",
    "    print( \"largest number : \",number1)\n",
    "else:\n",
    "    print(\"largest number : \",number2)"
   ]
  },
  {
   "cell_type": "markdown",
   "id": "c2016a28-cf1c-44a7-83e1-a5171513676f",
   "metadata": {},
   "source": [
    "Question9 : write a program to check whether a person is senior citizen or not."
   ]
  },
  {
   "cell_type": "markdown",
   "id": "3ee28b2a-b5e6-455e-a2d6-c5c7c03b4d3e",
   "metadata": {},
   "source": [
    "Question10 : write a program whether a number (excepted from user) is postive or negative."
   ]
  },
  {
   "cell_type": "code",
   "execution_count": 65,
   "id": "38d4ce20-c4f0-4267-ab7e-330c063c10ad",
   "metadata": {},
   "outputs": [
    {
     "name": "stdin",
     "output_type": "stream",
     "text": [
      "please enter number:  -6\n"
     ]
    },
    {
     "name": "stdout",
     "output_type": "stream",
     "text": [
      "number is negative\n"
     ]
    }
   ],
   "source": [
    "number = int(input(\"please enter number: \"))\n",
    "if number > 0:\n",
    "    print(\"number is positive\")\n",
    "else:\n",
    "    print(\"number is negative\")"
   ]
  },
  {
   "cell_type": "markdown",
   "id": "d856172f-ec56-4768-8331-f7c0f8c6e4a8",
   "metadata": {},
   "source": [
    "Question11 : write a program whether a number (excepted from user) is even or odd."
   ]
  },
  {
   "cell_type": "code",
   "execution_count": 66,
   "id": "f0bec6bd-e078-48e8-a285-ea7e4e9c51f1",
   "metadata": {},
   "outputs": [
    {
     "name": "stdin",
     "output_type": "stream",
     "text": [
      "please enter number:  4\n"
     ]
    },
    {
     "name": "stdout",
     "output_type": "stream",
     "text": [
      "number is even\n"
     ]
    }
   ],
   "source": [
    "number = int(input(\"please enter number: \"))\n",
    "if number % 2 ==  0:\n",
    "    print(\"number is even\")\n",
    "else:\n",
    "    print(\"number is odd\")"
   ]
  }
 ],
 "metadata": {
  "kernelspec": {
   "display_name": "Python 3 (ipykernel)",
   "language": "python",
   "name": "python3"
  },
  "language_info": {
   "codemirror_mode": {
    "name": "ipython",
    "version": 3
   },
   "file_extension": ".py",
   "mimetype": "text/x-python",
   "name": "python",
   "nbconvert_exporter": "python",
   "pygments_lexer": "ipython3",
   "version": "3.9.13"
  }
 },
 "nbformat": 4,
 "nbformat_minor": 5
}
